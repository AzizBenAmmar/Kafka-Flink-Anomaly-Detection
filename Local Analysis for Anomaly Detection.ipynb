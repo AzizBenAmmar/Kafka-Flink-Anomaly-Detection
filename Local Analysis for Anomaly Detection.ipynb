{
  "nbformat": 4,
  "nbformat_minor": 0,
  "metadata": {
    "colab": {
      "name": "Terminal.ipynb",
      "provenance": [],
      "collapsed_sections": [],
      "toc_visible": true
    },
    "kernelspec": {
      "name": "python3",
      "display_name": "Python 3"
    }
  },
  "cells": [
    {
      "cell_type": "markdown",
      "metadata": {
        "id": "pv9K4nZFiwDZ",
        "colab_type": "text"
      },
      "source": [
        "# Local Analysis for Anomaly Detection within The Kafka-DataStreams"
      ]
    },
    {
      "cell_type": "markdown",
      "metadata": {
        "id": "dDXQ7nqMi_Jd",
        "colab_type": "text"
      },
      "source": [
        "Let's import some useful libraries"
      ]
    },
    {
      "cell_type": "code",
      "metadata": {
        "id": "eS3r65NFopk-",
        "colab_type": "code",
        "outputId": "270035b2-efe5-470a-ff11-8d2045cf03cb",
        "colab": {
          "base_uri": "https://localhost:8080/",
          "height": 71
        }
      },
      "source": [
        "import csv\n",
        "import pandas as pd\n",
        "from pandas import DataFrame\n",
        "import seaborn as sns"
      ],
      "execution_count": 1,
      "outputs": [
        {
          "output_type": "stream",
          "text": [
            "/usr/local/lib/python3.6/dist-packages/statsmodels/tools/_testing.py:19: FutureWarning: pandas.util.testing is deprecated. Use the functions in the public API at pandas.testing instead.\n",
            "  import pandas.util.testing as tm\n"
          ],
          "name": "stderr"
        }
      ]
    },
    {
      "cell_type": "markdown",
      "metadata": {
        "id": "38Tb_mAYjJUd",
        "colab_type": "text"
      },
      "source": [
        "Let's move to the data Directory "
      ]
    },
    {
      "cell_type": "code",
      "metadata": {
        "id": "A4RuZaBCqIXz",
        "colab_type": "code",
        "outputId": "4f69af6d-67b8-4c50-f054-fc385d95ae55",
        "colab": {
          "base_uri": "https://localhost:8080/",
          "height": 34
        }
      },
      "source": [
        "cd /content/drive/My Drive/"
      ],
      "execution_count": 2,
      "outputs": [
        {
          "output_type": "stream",
          "text": [
            "/content/drive/My Drive\n"
          ],
          "name": "stdout"
        }
      ]
    },
    {
      "cell_type": "markdown",
      "metadata": {
        "id": "AaACFc9ulNOo",
        "colab_type": "text"
      },
      "source": [
        "Let's link our data files"
      ]
    },
    {
      "cell_type": "code",
      "metadata": {
        "id": "znBPKbJnqcbv",
        "colab_type": "code",
        "colab": {}
      },
      "source": [
        "df = pd.read_json('clickStream.json', lines=True)\n",
        "df2 = pd.read_json('displayStream.json', lines=True)"
      ],
      "execution_count": 0,
      "outputs": []
    },
    {
      "cell_type": "code",
      "metadata": {
        "id": "hQ2a_gi4qf8x",
        "colab_type": "code",
        "outputId": "3687ffb4-c852-446f-a229-c18c16bc6b96",
        "colab": {
          "base_uri": "https://localhost:8080/",
          "height": 204
        }
      },
      "source": [
        "df.head(5)"
      ],
      "execution_count": 4,
      "outputs": [
        {
          "output_type": "execute_result",
          "data": {
            "text/html": [
              "<div>\n",
              "<style scoped>\n",
              "    .dataframe tbody tr th:only-of-type {\n",
              "        vertical-align: middle;\n",
              "    }\n",
              "\n",
              "    .dataframe tbody tr th {\n",
              "        vertical-align: top;\n",
              "    }\n",
              "\n",
              "    .dataframe thead th {\n",
              "        text-align: right;\n",
              "    }\n",
              "</style>\n",
              "<table border=\"1\" class=\"dataframe\">\n",
              "  <thead>\n",
              "    <tr style=\"text-align: right;\">\n",
              "      <th></th>\n",
              "      <th>eventType</th>\n",
              "      <th>uid</th>\n",
              "      <th>timestamp</th>\n",
              "      <th>ip</th>\n",
              "      <th>impressionId</th>\n",
              "    </tr>\n",
              "  </thead>\n",
              "  <tbody>\n",
              "    <tr>\n",
              "      <th>0</th>\n",
              "      <td>click</td>\n",
              "      <td>d1dcffd7-6766-4416-8d14-c754f77b15ec</td>\n",
              "      <td>2020-05-11 22:40:20</td>\n",
              "      <td>4.61.175.17</td>\n",
              "      <td>b327f163-f47f-4693-88a6-817e33977c78</td>\n",
              "    </tr>\n",
              "    <tr>\n",
              "      <th>1</th>\n",
              "      <td>click</td>\n",
              "      <td>aa5eeb1b-89a5-473f-91c5-e089c51adfee</td>\n",
              "      <td>2020-05-11 22:40:20</td>\n",
              "      <td>188.36.54.15</td>\n",
              "      <td>cf821c1c-5735-4c0a-914f-766f8372f11c</td>\n",
              "    </tr>\n",
              "    <tr>\n",
              "      <th>2</th>\n",
              "      <td>click</td>\n",
              "      <td>3acda4d7-8a1e-4741-8372-605457661ffc</td>\n",
              "      <td>2020-05-11 22:40:20</td>\n",
              "      <td>157.140.250.176</td>\n",
              "      <td>6167acae-c894-4918-b013-031b6589d8d7</td>\n",
              "    </tr>\n",
              "    <tr>\n",
              "      <th>3</th>\n",
              "      <td>click</td>\n",
              "      <td>279ddb6c-03f1-4474-9b08-66dfb5881a4e10</td>\n",
              "      <td>2020-05-11 22:40:21</td>\n",
              "      <td>238.186.83.58</td>\n",
              "      <td>fe7c3093-640c-4a8b-b815-0f5a53ff5a36</td>\n",
              "    </tr>\n",
              "    <tr>\n",
              "      <th>4</th>\n",
              "      <td>click</td>\n",
              "      <td>9864d3e5-496f-4015-be9c-430b8a4a4ad511</td>\n",
              "      <td>2020-05-11 22:40:21</td>\n",
              "      <td>238.186.83.58</td>\n",
              "      <td>2f9547ca-7059-4a65-80de-6631b2252805</td>\n",
              "    </tr>\n",
              "  </tbody>\n",
              "</table>\n",
              "</div>"
            ],
            "text/plain": [
              "  eventType  ...                          impressionId\n",
              "0     click  ...  b327f163-f47f-4693-88a6-817e33977c78\n",
              "1     click  ...  cf821c1c-5735-4c0a-914f-766f8372f11c\n",
              "2     click  ...  6167acae-c894-4918-b013-031b6589d8d7\n",
              "3     click  ...  fe7c3093-640c-4a8b-b815-0f5a53ff5a36\n",
              "4     click  ...  2f9547ca-7059-4a65-80de-6631b2252805\n",
              "\n",
              "[5 rows x 5 columns]"
            ]
          },
          "metadata": {
            "tags": []
          },
          "execution_count": 4
        }
      ]
    },
    {
      "cell_type": "code",
      "metadata": {
        "id": "GDmaapYHpnWL",
        "colab_type": "code",
        "colab": {
          "base_uri": "https://localhost:8080/",
          "height": 204
        },
        "outputId": "6181cb15-543c-4551-d395-58a263a5b958"
      },
      "source": [
        "df2.head(5)"
      ],
      "execution_count": 24,
      "outputs": [
        {
          "output_type": "execute_result",
          "data": {
            "text/html": [
              "<div>\n",
              "<style scoped>\n",
              "    .dataframe tbody tr th:only-of-type {\n",
              "        vertical-align: middle;\n",
              "    }\n",
              "\n",
              "    .dataframe tbody tr th {\n",
              "        vertical-align: top;\n",
              "    }\n",
              "\n",
              "    .dataframe thead th {\n",
              "        text-align: right;\n",
              "    }\n",
              "</style>\n",
              "<table border=\"1\" class=\"dataframe\">\n",
              "  <thead>\n",
              "    <tr style=\"text-align: right;\">\n",
              "      <th></th>\n",
              "      <th>eventType</th>\n",
              "      <th>uid</th>\n",
              "      <th>timestamp</th>\n",
              "      <th>ip</th>\n",
              "      <th>impressionId</th>\n",
              "    </tr>\n",
              "  </thead>\n",
              "  <tbody>\n",
              "    <tr>\n",
              "      <th>0</th>\n",
              "      <td>display</td>\n",
              "      <td>0d1c091f-e704-4e6f-bb98-7ee5ff6a70f6</td>\n",
              "      <td>2020-05-11 22:56:21</td>\n",
              "      <td>163.241.120.182</td>\n",
              "      <td>426cd1c9-e299-4b91-8ead-769b58d6b300</td>\n",
              "    </tr>\n",
              "    <tr>\n",
              "      <th>1</th>\n",
              "      <td>display</td>\n",
              "      <td>79a04aa3-3245-4142-b4a7-ccfca38ab9be</td>\n",
              "      <td>2020-05-11 22:56:21</td>\n",
              "      <td>106.252.112.1</td>\n",
              "      <td>0e124861-ecdf-494d-bbcc-069a13ebe2a6</td>\n",
              "    </tr>\n",
              "    <tr>\n",
              "      <th>2</th>\n",
              "      <td>display</td>\n",
              "      <td>6b49cf0d-f161-43f4-9b91-068ab05c94d1</td>\n",
              "      <td>2020-05-11 22:56:21</td>\n",
              "      <td>31.108.101.220</td>\n",
              "      <td>aca5e651-2a63-4fc9-9322-5aa2c5f17b86</td>\n",
              "    </tr>\n",
              "    <tr>\n",
              "      <th>3</th>\n",
              "      <td>display</td>\n",
              "      <td>af6db700-bd33-477e-830f-031a0cccfca1</td>\n",
              "      <td>2020-05-11 22:56:21</td>\n",
              "      <td>22.105.66.149</td>\n",
              "      <td>d8e191b9-88d2-4e03-8f89-61dc9a382ab0</td>\n",
              "    </tr>\n",
              "    <tr>\n",
              "      <th>4</th>\n",
              "      <td>display</td>\n",
              "      <td>070e1f39-f091-468f-889d-40af9fa15225</td>\n",
              "      <td>2020-05-11 22:56:21</td>\n",
              "      <td>214.47.42.50</td>\n",
              "      <td>96b812dc-00ee-4af3-a851-524eb995f4a5</td>\n",
              "    </tr>\n",
              "  </tbody>\n",
              "</table>\n",
              "</div>"
            ],
            "text/plain": [
              "  eventType  ...                          impressionId\n",
              "0   display  ...  426cd1c9-e299-4b91-8ead-769b58d6b300\n",
              "1   display  ...  0e124861-ecdf-494d-bbcc-069a13ebe2a6\n",
              "2   display  ...  aca5e651-2a63-4fc9-9322-5aa2c5f17b86\n",
              "3   display  ...  d8e191b9-88d2-4e03-8f89-61dc9a382ab0\n",
              "4   display  ...  96b812dc-00ee-4af3-a851-524eb995f4a5\n",
              "\n",
              "[5 rows x 5 columns]"
            ]
          },
          "metadata": {
            "tags": []
          },
          "execution_count": 24
        }
      ]
    },
    {
      "cell_type": "markdown",
      "metadata": {
        "id": "Mqj8a4xFpT1t",
        "colab_type": "text"
      },
      "source": [
        "## Let's detect the first patern"
      ]
    },
    {
      "cell_type": "code",
      "metadata": {
        "id": "iZ_BEgWduf6r",
        "colab_type": "code",
        "colab": {}
      },
      "source": [
        "pd_clickStream = df\n",
        "pd_clickStream = pd_clickStream.drop_duplicates( subset = [\"uid\"], keep =\"first\")\n",
        "pd_clickStream2 = pd_clickStream.set_index('uid')\n",
        "pd_clickStream3 = pd_clickStream2['ip'].unique()"
      ],
      "execution_count": 0,
      "outputs": []
    },
    {
      "cell_type": "code",
      "metadata": {
        "id": "qnn9X6sI4zlA",
        "colab_type": "code",
        "outputId": "97a41c29-4142-4df9-8470-4e3457863d1a",
        "colab": {
          "base_uri": "https://localhost:8080/",
          "height": 34
        }
      },
      "source": [
        "len(pd_clickStream2)"
      ],
      "execution_count": 29,
      "outputs": [
        {
          "output_type": "execute_result",
          "data": {
            "text/plain": [
              "1577"
            ]
          },
          "metadata": {
            "tags": []
          },
          "execution_count": 29
        }
      ]
    },
    {
      "cell_type": "code",
      "metadata": {
        "id": "F7gQ4UJ141KG",
        "colab_type": "code",
        "outputId": "e31c3cf9-f94c-429c-b5d9-1e9b9d9e8142",
        "colab": {
          "base_uri": "https://localhost:8080/",
          "height": 34
        }
      },
      "source": [
        "len(pd_clickStream3)"
      ],
      "execution_count": 30,
      "outputs": [
        {
          "output_type": "execute_result",
          "data": {
            "text/plain": [
              "731"
            ]
          },
          "metadata": {
            "tags": []
          },
          "execution_count": 30
        }
      ]
    },
    {
      "cell_type": "markdown",
      "metadata": {
        "id": "GDWBs2tCmG-v",
        "colab_type": "text"
      },
      "source": [
        "As there are 731 unique IP within 1577 uid's rows in the clickStream, some IP's are repeated. "
      ]
    },
    {
      "cell_type": "code",
      "metadata": {
        "id": "5HQbZ500EeQ_",
        "colab_type": "code",
        "colab": {}
      },
      "source": [
        "pd_displayStream = df\n",
        "pd_displayStream = pd_displayStream.drop_duplicates( subset = [\"uid\"], keep =\"first\")\n",
        "pd_displayStream2 = pd_displayStream.set_index('uid')\n",
        "pd_displayStream3 = pd_displayStream2['ip'].unique()"
      ],
      "execution_count": 0,
      "outputs": []
    },
    {
      "cell_type": "code",
      "metadata": {
        "id": "vF3BNVTOvzt9",
        "colab_type": "code",
        "colab": {
          "base_uri": "https://localhost:8080/",
          "height": 34
        },
        "outputId": "d5cbdd6c-4def-480b-ed8a-e2f2428d11cd"
      },
      "source": [
        "len(pd_displayStream2)"
      ],
      "execution_count": 32,
      "outputs": [
        {
          "output_type": "execute_result",
          "data": {
            "text/plain": [
              "1577"
            ]
          },
          "metadata": {
            "tags": []
          },
          "execution_count": 32
        }
      ]
    },
    {
      "cell_type": "code",
      "metadata": {
        "id": "41gRiRoKFBn6",
        "colab_type": "code",
        "outputId": "2f8a0108-f252-4c0d-b4f9-6e9646f3576d",
        "colab": {
          "base_uri": "https://localhost:8080/",
          "height": 34
        }
      },
      "source": [
        "len(pd_displayStream3)"
      ],
      "execution_count": 33,
      "outputs": [
        {
          "output_type": "execute_result",
          "data": {
            "text/plain": [
              "731"
            ]
          },
          "metadata": {
            "tags": []
          },
          "execution_count": 33
        }
      ]
    },
    {
      "cell_type": "markdown",
      "metadata": {
        "id": "OnkRi44IFMdt",
        "colab_type": "text"
      },
      "source": [
        "Likewise, as there are 731 unique IP within 1577 uid's rows in the displayStream, some IP's are repeated. \\\\\n",
        "**THIS IS LIKELY TO BE A FRAUD!!**"
      ]
    },
    {
      "cell_type": "markdown",
      "metadata": {
        "id": "bgcXaLAYqgLI",
        "colab_type": "text"
      },
      "source": [
        "# Let's detect the second patern"
      ]
    },
    {
      "cell_type": "code",
      "metadata": {
        "id": "jWwWWfGvFDs-",
        "colab_type": "code",
        "outputId": "202a298b-3fc3-4059-e623-07a49720bd92",
        "colab": {
          "base_uri": "https://localhost:8080/",
          "height": 34
        }
      },
      "source": [
        "pd_clickStream = df\n",
        "pd_clickStream = pd_clickStream.drop_duplicates( subset = [\"ip\"], keep =\"first\")\n",
        "pd_clickStream2 = pd_clickStream.set_index('ip')\n",
        "pd_clickStream3 = pd_clickStream2['uid'].unique()\n",
        "len(pd_displayStream2)"
      ],
      "execution_count": 34,
      "outputs": [
        {
          "output_type": "execute_result",
          "data": {
            "text/plain": [
              "1577"
            ]
          },
          "metadata": {
            "tags": []
          },
          "execution_count": 34
        }
      ]
    },
    {
      "cell_type": "code",
      "metadata": {
        "id": "UV49GqCYGFNX",
        "colab_type": "code",
        "outputId": "50dca32e-4af3-403b-cf2a-1d38a27dfb98",
        "colab": {
          "base_uri": "https://localhost:8080/",
          "height": 34
        }
      },
      "source": [
        "len(pd_displayStream3)"
      ],
      "execution_count": 35,
      "outputs": [
        {
          "output_type": "execute_result",
          "data": {
            "text/plain": [
              "731"
            ]
          },
          "metadata": {
            "tags": []
          },
          "execution_count": 35
        }
      ]
    },
    {
      "cell_type": "markdown",
      "metadata": {
        "id": "APYqO237q6KT",
        "colab_type": "text"
      },
      "source": [
        "There are some users who change their ips while keeping the same uid in the clickStream."
      ]
    },
    {
      "cell_type": "code",
      "metadata": {
        "id": "1M4Z6tPLGMN2",
        "colab_type": "code",
        "outputId": "121a10ed-a855-424e-fbcd-27c2adfb227e",
        "colab": {
          "base_uri": "https://localhost:8080/",
          "height": 34
        }
      },
      "source": [
        "pd_displayStream = df\n",
        "pd_displayStream = pd_displayStream.drop_duplicates( subset = [\"ip\"], keep =\"first\")\n",
        "pd_displayStream2 = pd_displayStream.set_index('ip')\n",
        "pd_displayStream3 = pd_displayStream2['uid'].unique()\n",
        "len(pd_displayStream2)"
      ],
      "execution_count": 36,
      "outputs": [
        {
          "output_type": "execute_result",
          "data": {
            "text/plain": [
              "2628"
            ]
          },
          "metadata": {
            "tags": []
          },
          "execution_count": 36
        }
      ]
    },
    {
      "cell_type": "code",
      "metadata": {
        "id": "N8pxustcGYEN",
        "colab_type": "code",
        "outputId": "bb7709f2-017c-43b3-88ec-922b81d138e5",
        "colab": {
          "base_uri": "https://localhost:8080/",
          "height": 34
        }
      },
      "source": [
        "len(pd_displayStream3)"
      ],
      "execution_count": 37,
      "outputs": [
        {
          "output_type": "execute_result",
          "data": {
            "text/plain": [
              "654"
            ]
          },
          "metadata": {
            "tags": []
          },
          "execution_count": 37
        }
      ]
    },
    {
      "cell_type": "markdown",
      "metadata": {
        "id": "UcVI4aGjGg-F",
        "colab_type": "text"
      },
      "source": [
        "There are some users who change their ips while keeping the same uid in the displayStream. \\\\\n",
        "**THIS IS LIKELY TO BE OUR SECOND FRAUD!!**"
      ]
    },
    {
      "cell_type": "markdown",
      "metadata": {
        "id": "8RLrv7D2rBv7",
        "colab_type": "text"
      },
      "source": [
        "## To sum up, we detected 2 Patterns. \n",
        "## Now, let's move forward to flink implementation! "
      ]
    }
  ]
}